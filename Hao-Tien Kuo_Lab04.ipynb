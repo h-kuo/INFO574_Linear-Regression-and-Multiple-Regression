{
 "cells": [
  {
   "cell_type": "markdown",
   "id": "02d94af1-c35f-424c-825f-7b69284aa668",
   "metadata": {},
   "source": [
    "# Lab 04\n",
    "Hao-Tien Kuo"
   ]
  },
  {
   "cell_type": "markdown",
   "id": "ebd09abb-b36b-42de-a12b-3ba6b14a5ffb",
   "metadata": {},
   "source": [
    "## Section 1: Group Comparisons with Continuous Data"
   ]
  },
  {
   "cell_type": "code",
   "execution_count": 1,
   "id": "5f491fb6-24a1-48bf-8769-a01039c91634",
   "metadata": {},
   "outputs": [],
   "source": [
    "import numpy as np\n",
    "import pandas as pd\n",
    "\n",
    "# Read the males_ht_wt_cntry.csv file into a data frame\n",
    "df1 = pd.read_csv(\"males_ht_wt_cntry.csv\")"
   ]
  },
  {
   "cell_type": "code",
   "execution_count": 2,
   "id": "b92cd235-6544-4439-9ddd-e03084244cff",
   "metadata": {},
   "outputs": [
    {
     "data": {
      "text/html": [
       "<div>\n",
       "<style scoped>\n",
       "    .dataframe tbody tr th:only-of-type {\n",
       "        vertical-align: middle;\n",
       "    }\n",
       "\n",
       "    .dataframe tbody tr th {\n",
       "        vertical-align: top;\n",
       "    }\n",
       "\n",
       "    .dataframe thead th {\n",
       "        text-align: right;\n",
       "    }\n",
       "</style>\n",
       "<table border=\"1\" class=\"dataframe\">\n",
       "  <thead>\n",
       "    <tr style=\"text-align: right;\">\n",
       "      <th></th>\n",
       "      <th>Height</th>\n",
       "      <th>Weight</th>\n",
       "      <th>Country</th>\n",
       "    </tr>\n",
       "  </thead>\n",
       "  <tbody>\n",
       "    <tr>\n",
       "      <th>0</th>\n",
       "      <td>64.0</td>\n",
       "      <td>144.0</td>\n",
       "      <td>Italy</td>\n",
       "    </tr>\n",
       "    <tr>\n",
       "      <th>1</th>\n",
       "      <td>68.0</td>\n",
       "      <td>150.0</td>\n",
       "      <td>Italy</td>\n",
       "    </tr>\n",
       "    <tr>\n",
       "      <th>2</th>\n",
       "      <td>66.0</td>\n",
       "      <td>147.0</td>\n",
       "      <td>Italy</td>\n",
       "    </tr>\n",
       "    <tr>\n",
       "      <th>3</th>\n",
       "      <td>71.0</td>\n",
       "      <td>170.0</td>\n",
       "      <td>Italy</td>\n",
       "    </tr>\n",
       "    <tr>\n",
       "      <th>4</th>\n",
       "      <td>65.0</td>\n",
       "      <td>163.0</td>\n",
       "      <td>Italy</td>\n",
       "    </tr>\n",
       "    <tr>\n",
       "      <th>5</th>\n",
       "      <td>67.0</td>\n",
       "      <td>161.0</td>\n",
       "      <td>Italy</td>\n",
       "    </tr>\n",
       "    <tr>\n",
       "      <th>6</th>\n",
       "      <td>65.0</td>\n",
       "      <td>147.0</td>\n",
       "      <td>Italy</td>\n",
       "    </tr>\n",
       "    <tr>\n",
       "      <th>7</th>\n",
       "      <td>68.0</td>\n",
       "      <td>156.0</td>\n",
       "      <td>Italy</td>\n",
       "    </tr>\n",
       "    <tr>\n",
       "      <th>8</th>\n",
       "      <td>69.0</td>\n",
       "      <td>149.0</td>\n",
       "      <td>Italy</td>\n",
       "    </tr>\n",
       "    <tr>\n",
       "      <th>9</th>\n",
       "      <td>66.0</td>\n",
       "      <td>157.0</td>\n",
       "      <td>Italy</td>\n",
       "    </tr>\n",
       "  </tbody>\n",
       "</table>\n",
       "</div>"
      ],
      "text/plain": [
       "   Height  Weight Country\n",
       "0    64.0   144.0   Italy\n",
       "1    68.0   150.0   Italy\n",
       "2    66.0   147.0   Italy\n",
       "3    71.0   170.0   Italy\n",
       "4    65.0   163.0   Italy\n",
       "5    67.0   161.0   Italy\n",
       "6    65.0   147.0   Italy\n",
       "7    68.0   156.0   Italy\n",
       "8    69.0   149.0   Italy\n",
       "9    66.0   157.0   Italy"
      ]
     },
     "execution_count": 2,
     "metadata": {},
     "output_type": "execute_result"
    }
   ],
   "source": [
    "# Display some rows to make sure it imported correctly\n",
    "df1.head(10)"
   ]
  },
  {
   "cell_type": "code",
   "execution_count": 3,
   "id": "4a3dcfa6-967b-4c84-ae45-059faf3e216f",
   "metadata": {},
   "outputs": [
    {
     "name": "stdout",
     "output_type": "stream",
     "text": [
      "USA            90\n",
      "Netherlands    80\n",
      "Italy          70\n",
      "Name: Country, dtype: int64\n"
     ]
    }
   ],
   "source": [
    "print(df1['Country'].value_counts())"
   ]
  },
  {
   "cell_type": "code",
   "execution_count": 4,
   "id": "773ca26b-0ca3-4ab3-9532-22656c11cbfb",
   "metadata": {},
   "outputs": [
    {
     "data": {
      "image/png": "[encoded data removed]",
      "text/plain": [
       "<Figure size 432x288 with 1 Axes>"
      ]
     },
     "metadata": {},
     "output_type": "display_data"
    }
   ],
   "source": [
    "# Generate histograms of the heights by country\n",
    "import seaborn as sns\n",
    "import matplotlib.pyplot as plt\n",
    "\n",
    "sns.set(style=\"darkgrid\")\n",
    "sns.histplot(data=df1, x='Height', hue='Country', kde=True)\n",
    "\n",
    "plt.show()"
   ]
  },
  {
   "cell_type": "code",
   "execution_count": 5,
   "id": "817c3da4-58a3-4380-9bc7-ebe9ee59a484",
   "metadata": {},
   "outputs": [
    {
     "data": {
      "image/png": "[encoded data removed]",
      "text/plain": [
       "<Figure size 432x288 with 1 Axes>"
      ]
     },
     "metadata": {},
     "output_type": "display_data"
    }
   ],
   "source": [
    "# Generate histograms of the weights by country\n",
    "sns.histplot(data=df1, x='Weight', hue='Country', kde=True)\n",
    "\n",
    "plt.show()"
   ]
  },
  {
   "cell_type": "code",
   "execution_count": 6,
   "id": "34701cbe-1d2e-476c-94ae-b12f2717c69b",
   "metadata": {},
   "outputs": [
    {
     "name": "stdout",
     "output_type": "stream",
     "text": [
      "0.07218180380373036\n"
     ]
    }
   ],
   "source": [
    "# Conduct a test to determine if the weights differ by nationality and interpret your results.\n",
    "from scipy.stats import f_oneway, levene\n",
    "\n",
    "w_us = df1['Weight'].loc[df1['Country']=='USA']\n",
    "w_nl = df1['Weight'].loc[df1['Country']=='Netherlands']\n",
    "w_it = df1['Weight'].loc[df1['Country']=='Italy']\n",
    "\n",
    "# Check variance (Levene's test)\n",
    "stat, p = levene(w_us, w_nl, w_it)\n",
    "print(p)"
   ]
  },
  {
   "cell_type": "code",
   "execution_count": 7,
   "id": "d6a22cdb-9aec-47f7-aa22-201525fabd14",
   "metadata": {},
   "outputs": [
    {
     "name": "stdout",
     "output_type": "stream",
     "text": [
      "1.9503368513081563e-25\n"
     ]
    }
   ],
   "source": [
    "# ANOVA test\n",
    "result  = f_oneway(w_us, w_nl, w_it)\n",
    "\n",
    "# p-value\n",
    "print(result.pvalue)"
   ]
  },
  {
   "cell_type": "code",
   "execution_count": 8,
   "id": "ec08b512-cb09-4dea-b4cc-0c6d051496b7",
   "metadata": {},
   "outputs": [
    {
     "name": "stdout",
     "output_type": "stream",
     "text": [
      "101.44489795918368 118.35484374999999 162.00111111111104\n",
      "True\n",
      "True\n",
      "True\n"
     ]
    }
   ],
   "source": [
    "from scipy.stats import ttest_ind\n",
    "\n",
    "# find variance for each group\n",
    "print(np.var(w_it), np.var(w_nl), np.var(w_us))\n",
    "\n",
    "# The ratios of the variances are all less than 4. We can assume that the population variances are equal.\n",
    "print(np.var(w_nl) / np.var(w_it) < 4)\n",
    "print(np.var(w_us) / np.var(w_it) < 4)\n",
    "print(np.var(w_us) / np.var(w_nl) < 4)"
   ]
  },
  {
   "cell_type": "code",
   "execution_count": 9,
   "id": "e2a08a73-155c-408f-9011-893670eba06b",
   "metadata": {},
   "outputs": [
    {
     "data": {
      "text/plain": [
       "Ttest_indResult(statistic=-11.135754716464666, pvalue=2.6541621479997745e-21)"
      ]
     },
     "execution_count": 9,
     "metadata": {},
     "output_type": "execute_result"
    }
   ],
   "source": [
    "# Conduct a test to determine if the weights of the Italian males were significantly different than the Dutch males\n",
    "ttest_ind(a=w_it, b=w_nl, equal_var=True)"
   ]
  },
  {
   "cell_type": "code",
   "execution_count": 10,
   "id": "c20118f2-16ca-4d8d-820d-c96a21b9ee06",
   "metadata": {},
   "outputs": [
    {
     "data": {
      "text/plain": [
       "Ttest_indResult(statistic=-10.715936381667479, pvalue=1.755707616976545e-20)"
      ]
     },
     "execution_count": 10,
     "metadata": {},
     "output_type": "execute_result"
    }
   ],
   "source": [
    "# Conduct a test to determine if the weights of the Italian males were significantly different than the American males\n",
    "ttest_ind(a=w_it, b=w_us, equal_var=True)"
   ]
  },
  {
   "cell_type": "code",
   "execution_count": 11,
   "id": "bf9148db-3ab9-4a64-8d6a-5d6489f867a7",
   "metadata": {},
   "outputs": [
    {
     "data": {
      "text/plain": [
       "Ttest_indResult(statistic=0.39209148079725187, pvalue=0.6954875719362548)"
      ]
     },
     "execution_count": 11,
     "metadata": {},
     "output_type": "execute_result"
    }
   ],
   "source": [
    "# Conduct a test to determine if the weights of the American males were significantly different than the Dutch males \n",
    "ttest_ind(a=w_us, b=w_nl, equal_var=True)"
   ]
  },
  {
   "cell_type": "code",
   "execution_count": 34,
   "id": "0d6ad4c9-ca61-445a-876c-158afa6bc584",
   "metadata": {},
   "outputs": [
    {
     "name": "stdout",
     "output_type": "stream",
     "text": [
      "     Multiple Comparison of Means - Tukey HSD, FWER=0.05     \n",
      "=============================================================\n",
      "   group1      group2   meandiff p-adj  lower   upper  reject\n",
      "-------------------------------------------------------------\n",
      "      Italy Netherlands  19.2839 0.001 14.8583 23.7095   True\n",
      "      Italy         USA  20.0048 0.001 15.6954 24.3141   True\n",
      "Netherlands         USA   0.7208   0.9 -3.4342  4.8759  False\n",
      "-------------------------------------------------------------\n"
     ]
    }
   ],
   "source": [
    "# Use a multiple comparison procedure with a Tukey adjustment.\n",
    "from statsmodels.stats.multicomp import pairwise_tukeyhsd\n",
    "\n",
    "# perform multiple pairwise comparison (Tukey HSD)\n",
    "m_comp = pairwise_tukeyhsd(endog=df1['Weight'], groups=df1['Country'], alpha=0.05)\n",
    "print(m_comp)\n",
    "\n",
    "# Weights of Italian males are significantly different from the two other countries"
   ]
  },
  {
   "cell_type": "markdown",
   "id": "ecd76b22-cd5d-48f3-9a55-d3116be622c7",
   "metadata": {},
   "source": [
    "## Section 2: Group Comparisons with Categorical Data"
   ]
  },
  {
   "cell_type": "code",
   "execution_count": 12,
   "id": "0c5e8919-6a16-46da-8294-d71196f7cca7",
   "metadata": {},
   "outputs": [],
   "source": [
    "# Create a new BMI column. Use the Imperial formula.\n",
    "df1['BMI'] = df1['Weight']*703 / (df1['Height']**2)"
   ]
  },
  {
   "cell_type": "code",
   "execution_count": 13,
   "id": "95161712-0bfe-4311-896b-6e299bce60de",
   "metadata": {},
   "outputs": [
    {
     "data": {
      "text/html": [
       "<div>\n",
       "<style scoped>\n",
       "    .dataframe tbody tr th:only-of-type {\n",
       "        vertical-align: middle;\n",
       "    }\n",
       "\n",
       "    .dataframe tbody tr th {\n",
       "        vertical-align: top;\n",
       "    }\n",
       "\n",
       "    .dataframe thead th {\n",
       "        text-align: right;\n",
       "    }\n",
       "</style>\n",
       "<table border=\"1\" class=\"dataframe\">\n",
       "  <thead>\n",
       "    <tr style=\"text-align: right;\">\n",
       "      <th></th>\n",
       "      <th>Height</th>\n",
       "      <th>Weight</th>\n",
       "      <th>Country</th>\n",
       "      <th>BMI</th>\n",
       "      <th>Overweight</th>\n",
       "    </tr>\n",
       "  </thead>\n",
       "  <tbody>\n",
       "    <tr>\n",
       "      <th>0</th>\n",
       "      <td>64.0</td>\n",
       "      <td>144.0</td>\n",
       "      <td>Italy</td>\n",
       "      <td>24.714844</td>\n",
       "      <td>0</td>\n",
       "    </tr>\n",
       "    <tr>\n",
       "      <th>1</th>\n",
       "      <td>68.0</td>\n",
       "      <td>150.0</td>\n",
       "      <td>Italy</td>\n",
       "      <td>22.804931</td>\n",
       "      <td>0</td>\n",
       "    </tr>\n",
       "    <tr>\n",
       "      <th>2</th>\n",
       "      <td>66.0</td>\n",
       "      <td>147.0</td>\n",
       "      <td>Italy</td>\n",
       "      <td>23.723829</td>\n",
       "      <td>0</td>\n",
       "    </tr>\n",
       "    <tr>\n",
       "      <th>3</th>\n",
       "      <td>71.0</td>\n",
       "      <td>170.0</td>\n",
       "      <td>Italy</td>\n",
       "      <td>23.707598</td>\n",
       "      <td>0</td>\n",
       "    </tr>\n",
       "    <tr>\n",
       "      <th>4</th>\n",
       "      <td>65.0</td>\n",
       "      <td>163.0</td>\n",
       "      <td>Italy</td>\n",
       "      <td>27.121657</td>\n",
       "      <td>1</td>\n",
       "    </tr>\n",
       "    <tr>\n",
       "      <th>5</th>\n",
       "      <td>67.0</td>\n",
       "      <td>161.0</td>\n",
       "      <td>Italy</td>\n",
       "      <td>25.213411</td>\n",
       "      <td>1</td>\n",
       "    </tr>\n",
       "    <tr>\n",
       "      <th>6</th>\n",
       "      <td>65.0</td>\n",
       "      <td>147.0</td>\n",
       "      <td>Italy</td>\n",
       "      <td>24.459408</td>\n",
       "      <td>0</td>\n",
       "    </tr>\n",
       "    <tr>\n",
       "      <th>7</th>\n",
       "      <td>68.0</td>\n",
       "      <td>156.0</td>\n",
       "      <td>Italy</td>\n",
       "      <td>23.717128</td>\n",
       "      <td>0</td>\n",
       "    </tr>\n",
       "    <tr>\n",
       "      <th>8</th>\n",
       "      <td>69.0</td>\n",
       "      <td>149.0</td>\n",
       "      <td>Italy</td>\n",
       "      <td>22.001050</td>\n",
       "      <td>0</td>\n",
       "    </tr>\n",
       "    <tr>\n",
       "      <th>9</th>\n",
       "      <td>66.0</td>\n",
       "      <td>157.0</td>\n",
       "      <td>Italy</td>\n",
       "      <td>25.337695</td>\n",
       "      <td>1</td>\n",
       "    </tr>\n",
       "  </tbody>\n",
       "</table>\n",
       "</div>"
      ],
      "text/plain": [
       "   Height  Weight Country        BMI  Overweight\n",
       "0    64.0   144.0   Italy  24.714844           0\n",
       "1    68.0   150.0   Italy  22.804931           0\n",
       "2    66.0   147.0   Italy  23.723829           0\n",
       "3    71.0   170.0   Italy  23.707598           0\n",
       "4    65.0   163.0   Italy  27.121657           1\n",
       "5    67.0   161.0   Italy  25.213411           1\n",
       "6    65.0   147.0   Italy  24.459408           0\n",
       "7    68.0   156.0   Italy  23.717128           0\n",
       "8    69.0   149.0   Italy  22.001050           0\n",
       "9    66.0   157.0   Italy  25.337695           1"
      ]
     },
     "execution_count": 13,
     "metadata": {},
     "output_type": "execute_result"
    }
   ],
   "source": [
    "# Create another new column ‘Overweight’ that is a 1 if BMI >= 25 and 0 otherwise.\n",
    "df1['Overweight'] = np.where(df1['BMI']>=25, 1, 0)\n",
    "\n",
    "df1.head(10)"
   ]
  },
  {
   "cell_type": "code",
   "execution_count": 14,
   "id": "c6345c53-f401-4a85-ba27-1b95d2edbc26",
   "metadata": {},
   "outputs": [
    {
     "data": {
      "text/html": [
       "<div>\n",
       "<style scoped>\n",
       "    .dataframe tbody tr th:only-of-type {\n",
       "        vertical-align: middle;\n",
       "    }\n",
       "\n",
       "    .dataframe tbody tr th {\n",
       "        vertical-align: top;\n",
       "    }\n",
       "\n",
       "    .dataframe thead th {\n",
       "        text-align: right;\n",
       "    }\n",
       "</style>\n",
       "<table border=\"1\" class=\"dataframe\">\n",
       "  <thead>\n",
       "    <tr style=\"text-align: right;\">\n",
       "      <th>Country</th>\n",
       "      <th>Italy</th>\n",
       "      <th>Netherlands</th>\n",
       "      <th>USA</th>\n",
       "      <th>All</th>\n",
       "    </tr>\n",
       "    <tr>\n",
       "      <th>Overweight</th>\n",
       "      <th></th>\n",
       "      <th></th>\n",
       "      <th></th>\n",
       "      <th></th>\n",
       "    </tr>\n",
       "  </thead>\n",
       "  <tbody>\n",
       "    <tr>\n",
       "      <th>0</th>\n",
       "      <td>54</td>\n",
       "      <td>48</td>\n",
       "      <td>38</td>\n",
       "      <td>140</td>\n",
       "    </tr>\n",
       "    <tr>\n",
       "      <th>1</th>\n",
       "      <td>16</td>\n",
       "      <td>32</td>\n",
       "      <td>52</td>\n",
       "      <td>100</td>\n",
       "    </tr>\n",
       "    <tr>\n",
       "      <th>All</th>\n",
       "      <td>70</td>\n",
       "      <td>80</td>\n",
       "      <td>90</td>\n",
       "      <td>240</td>\n",
       "    </tr>\n",
       "  </tbody>\n",
       "</table>\n",
       "</div>"
      ],
      "text/plain": [
       "Country     Italy  Netherlands  USA  All\n",
       "Overweight                              \n",
       "0              54           48   38  140\n",
       "1              16           32   52  100\n",
       "All            70           80   90  240"
      ]
     },
     "execution_count": 14,
     "metadata": {},
     "output_type": "execute_result"
    }
   ],
   "source": [
    "# Create a contingency table and examine it. Describe any differences you see between nationalities.\n",
    "pd.crosstab(df1['Overweight'], df1['Country'], margins = True)"
   ]
  },
  {
   "cell_type": "code",
   "execution_count": 15,
   "id": "2642f99c-dc87-40fe-9dee-3aea1d7b223a",
   "metadata": {},
   "outputs": [
    {
     "name": "stdout",
     "output_type": "stream",
     "text": [
      "p value is 4.79130595387623e-05\n",
      "Dependent (reject H0)\n"
     ]
    }
   ],
   "source": [
    "# Conduct a test to see if the differences are significant. Explain your findings.\n",
    "from scipy.stats import chi2_contingency\n",
    "\n",
    "# defining the table\n",
    "data = pd.crosstab(df1['Overweight'], df1['Country'])\n",
    "stat, p, dof, expected = chi2_contingency(data)\n",
    "\n",
    "# interpret p-value\n",
    "alpha = 0.05\n",
    "print(\"p value is \" + str(p))\n",
    "if p <= alpha:\n",
    "    print('Dependent (reject H0)')\n",
    "else:\n",
    "    print('Independent (H0 holds true)')\n",
    "    \n",
    "# Overweight status differs between the three countries"
   ]
  },
  {
   "cell_type": "markdown",
   "id": "18d7f161-a441-4e05-af46-6e91f3cd57ca",
   "metadata": {},
   "source": [
    "## Section 3: Regression"
   ]
  },
  {
   "cell_type": "code",
   "execution_count": 16,
   "id": "cffa3da3-9d99-4904-952c-e8bc32c7e3cd",
   "metadata": {},
   "outputs": [
    {
     "data": {
      "text/plain": [
       "array([154.37909733, 165.79370977, 160.08640355, 174.3546691 ,\n",
       "       157.23275044, 162.94005666, 157.23275044, 165.79370977,\n",
       "       168.64736288, 160.08640355, 162.94005666, 162.94005666,\n",
       "       180.06197532, 165.79370977, 180.06197532, 171.50101599,\n",
       "       171.50101599, 165.79370977, 148.67179111, 174.3546691 ,\n",
       "       180.06197532, 154.37909733, 160.08640355, 165.79370977,\n",
       "       165.79370977, 168.64736288, 162.94005666, 177.20832221,\n",
       "       162.94005666, 168.64736288, 162.94005666, 157.23275044,\n",
       "       160.08640355, 177.20832221, 160.08640355, 160.08640355,\n",
       "       157.23275044, 160.08640355, 162.94005666, 165.79370977,\n",
       "       168.64736288, 171.50101599, 165.79370977, 168.64736288,\n",
       "       168.64736288, 165.79370977, 171.50101599, 162.94005666,\n",
       "       154.37909733, 165.79370977, 157.23275044, 171.50101599,\n",
       "       177.20832221, 154.37909733, 171.50101599, 177.20832221,\n",
       "       171.50101599, 165.79370977, 174.3546691 , 168.64736288,\n",
       "       171.50101599, 165.79370977, 174.3546691 , 165.79370977,\n",
       "       171.50101599, 171.50101599, 168.64736288, 160.08640355,\n",
       "       171.50101599, 157.23275044, 182.91562843, 165.79370977,\n",
       "       162.94005666, 177.20832221, 165.79370977, 171.50101599,\n",
       "       185.76928154, 182.91562843, 171.50101599, 182.91562843,\n",
       "       182.91562843, 182.91562843, 174.3546691 , 174.3546691 ,\n",
       "       182.91562843, 168.64736288, 162.94005666, 177.20832221,\n",
       "       180.06197532, 168.64736288, 162.94005666, 168.64736288,\n",
       "       177.20832221, 165.79370977, 162.94005666, 171.50101599,\n",
       "       160.08640355, 182.91562843, 160.08640355, 168.64736288,\n",
       "       171.50101599, 177.20832221, 174.3546691 , 174.3546691 ,\n",
       "       174.3546691 , 174.3546691 , 171.50101599, 182.91562843,\n",
       "       171.50101599, 171.50101599, 168.64736288, 174.3546691 ,\n",
       "       180.06197532, 168.64736288, 165.79370977, 171.50101599,\n",
       "       148.67179111, 171.50101599, 174.3546691 , 160.08640355,\n",
       "       168.64736288, 165.79370977, 168.64736288, 168.64736288,\n",
       "       154.37909733, 168.64736288, 180.06197532, 174.3546691 ,\n",
       "       180.06197532, 162.94005666, 180.06197532, 157.23275044,\n",
       "       160.08640355, 174.3546691 , 174.3546691 , 188.62293465,\n",
       "       168.64736288, 180.06197532, 171.50101599, 171.50101599,\n",
       "       185.76928154, 185.76928154, 177.20832221, 151.52544422,\n",
       "       160.08640355, 177.20832221, 174.3546691 , 174.3546691 ,\n",
       "       168.64736288, 182.91562843, 180.06197532, 168.64736288,\n",
       "       171.50101599, 171.50101599, 171.50101599, 154.37909733,\n",
       "       165.79370977, 154.37909733, 182.91562843, 171.50101599,\n",
       "       177.20832221, 191.47658776, 185.76928154, 171.50101599,\n",
       "       185.76928154, 182.91562843, 185.76928154, 165.79370977,\n",
       "       174.3546691 , 180.06197532, 174.3546691 , 180.06197532,\n",
       "       171.50101599, 185.76928154, 177.20832221, 174.3546691 ,\n",
       "       174.3546691 , 168.64736288, 168.64736288, 171.50101599,\n",
       "       182.91562843, 145.818138  , 177.20832221, 157.23275044,\n",
       "       162.94005666, 171.50101599, 180.06197532, 165.79370977,\n",
       "       165.79370977, 182.91562843, 177.20832221, 157.23275044,\n",
       "       171.50101599, 177.20832221, 177.20832221, 188.62293465,\n",
       "       185.76928154, 165.79370977, 165.79370977, 180.06197532,\n",
       "       180.06197532, 188.62293465, 171.50101599, 168.64736288,\n",
       "       171.50101599, 182.91562843, 182.91562843, 182.91562843,\n",
       "       174.3546691 , 177.20832221, 174.3546691 , 177.20832221,\n",
       "       185.76928154, 168.64736288, 182.91562843, 171.50101599,\n",
       "       171.50101599, 171.50101599, 171.50101599, 185.76928154,\n",
       "       171.50101599, 165.79370977, 174.3546691 , 185.76928154,\n",
       "       168.64736288, 182.91562843, 174.3546691 , 168.64736288,\n",
       "       185.76928154, 180.06197532, 177.20832221, 174.3546691 ,\n",
       "       180.06197532, 185.76928154, 180.06197532, 165.79370977,\n",
       "       180.06197532, 168.64736288, 171.50101599, 165.79370977])"
      ]
     },
     "execution_count": 16,
     "metadata": {},
     "output_type": "execute_result"
    }
   ],
   "source": [
    "# Build a linear regression of to see whether height predicts weight. \n",
    "from sklearn import linear_model\n",
    "\n",
    "y = df1['Weight'] # dependent variable\n",
    "X = df1[['Height']] # independent variable\n",
    "\n",
    "lm = linear_model.LinearRegression()\n",
    "lm.fit(X, y) # fitting the model\n",
    "\n",
    "lm.predict(X)"
   ]
  },
  {
   "cell_type": "code",
   "execution_count": 17,
   "id": "9a7ff793-e87b-41e2-a75f-5f6165567af4",
   "metadata": {},
   "outputs": [
    {
     "name": "stdout",
     "output_type": "stream",
     "text": [
      "0.3635026287541787 [2.85365311] -28.254701729405923\n"
     ]
    }
   ],
   "source": [
    "print(lm.score(X, y), lm.coef_, lm.intercept_)"
   ]
  },
  {
   "cell_type": "code",
   "execution_count": 33,
   "id": "7f6f1fe3-9897-4abe-ba56-6782ed04997f",
   "metadata": {},
   "outputs": [
    {
     "name": "stdout",
     "output_type": "stream",
     "text": [
      "[  2.85365311 -28.25470173]\n"
     ]
    },
    {
     "name": "stderr",
     "output_type": "stream",
     "text": [
      "<ipython-input-33-278431fbd8b4>:4: SettingWithCopyWarning: \n",
      "A value is trying to be set on a copy of a slice from a DataFrame.\n",
      "Try using .loc[row_indexer,col_indexer] = value instead\n",
      "\n",
      "See the caveats in the documentation: https://pandas.pydata.org/pandas-docs/stable/user_guide/indexing.html#returning-a-view-versus-a-copy\n",
      "  X['constant'] = 1\n"
     ]
    },
    {
     "data": {
      "text/plain": [
       "0      154.379097\n",
       "1      165.793710\n",
       "2      160.086404\n",
       "3      174.354669\n",
       "4      157.232750\n",
       "          ...    \n",
       "235    165.793710\n",
       "236    180.061975\n",
       "237    168.647363\n",
       "238    171.501016\n",
       "239    165.793710\n",
       "Length: 240, dtype: float64"
      ]
     },
     "execution_count": 33,
     "metadata": {},
     "output_type": "execute_result"
    }
   ],
   "source": [
    "# Fit the same regression model using linear algebra. Compare your resultant beta’s to the ones you obtained earlier.\n",
    "from numpy.linalg import inv\n",
    "\n",
    "X['constant'] = 1\n",
    "\n",
    "# calculate coefficients\n",
    "b = inv(X.T.dot(X)).dot(X.T).dot(y)\n",
    "print(b)\n",
    "\n",
    "# predict using coefficients\n",
    "X.dot(b)"
   ]
  },
  {
   "cell_type": "code",
   "execution_count": null,
   "id": "99334abb-8d76-430e-a39b-e0e9f7b78b03",
   "metadata": {},
   "outputs": [],
   "source": []
  }
 ],
 "metadata": {
  "kernelspec": {
   "display_name": "Python 3",
   "language": "python",
   "name": "python3"
  },
  "language_info": {
   "codemirror_mode": {
    "name": "ipython",
    "version": 3
   },
   "file_extension": ".py",
   "mimetype": "text/x-python",
   "name": "python",
   "nbconvert_exporter": "python",
   "pygments_lexer": "ipython3",
   "version": "3.8.8"
  }
 },
 "nbformat": 4,
 "nbformat_minor": 5
}
