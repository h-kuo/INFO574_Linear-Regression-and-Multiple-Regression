{
 "cells": [
  {
   "cell_type": "markdown",
   "id": "9c7e1c46-9f27-494e-9af5-07877d757d81",
   "metadata": {},
   "source": [
    "# Exercise04\n",
    "Hao-Tien Kuo"
   ]
  },
  {
   "cell_type": "markdown",
   "id": "98e613b5-f3f4-4a48-a3c2-38fb97a80cbe",
   "metadata": {},
   "source": [
    "## Section 1: Analysis"
   ]
  },
  {
   "cell_type": "code",
   "execution_count": 1,
   "id": "7f676cae-70e9-4111-b21d-caf66291602e",
   "metadata": {},
   "outputs": [],
   "source": [
    "import numpy as np\n",
    "import pandas as pd\n",
    "import statistics\n",
    "import seaborn as sns\n",
    "import matplotlib.pyplot as plt\n",
    "\n",
    "df_custard = pd.read_excel(\"frzn_custard.xlsx\")"
   ]
  },
  {
   "cell_type": "markdown",
   "id": "9ca2694d-1919-4835-931d-7cda018f4b4f",
   "metadata": {},
   "source": [
    "An explanation of why the analysis is being conducted and what the hypotheses are:\n",
    "\n",
    "We conduct this analysis because we would like to confirm if the friend's statement is valid. That is, whether there really are more customers on hot days. If the statement is not statistically significant, then we can probabily infer that her tiredness is caused by something else.\n",
    "\n",
    "1. What is the outcome?\n",
    "\n",
    "Sales numbers.\n",
    "\n",
    "2. What is the main effect/predictor she wants to understand the impact of?\n",
    "\n",
    "Weather (daily temperature).\n",
    "\n",
    "3. What is the hypothesis?\n",
    "\n",
    "H0: Temperature has no correlation with sales. (β1 = 0)\n",
    "\n",
    "HA: Temperature has a positive correlation with sales. (β1 > 0)"
   ]
  },
  {
   "cell_type": "code",
   "execution_count": 3,
   "id": "e58b321e-9a8f-47b8-b5da-4df2478a551a",
   "metadata": {},
   "outputs": [
    {
     "data": {
      "text/html": [
       "<div>\n",
       "<style scoped>\n",
       "    .dataframe tbody tr th:only-of-type {\n",
       "        vertical-align: middle;\n",
       "    }\n",
       "\n",
       "    .dataframe tbody tr th {\n",
       "        vertical-align: top;\n",
       "    }\n",
       "\n",
       "    .dataframe thead th {\n",
       "        text-align: right;\n",
       "    }\n",
       "</style>\n",
       "<table border=\"1\" class=\"dataframe\">\n",
       "  <thead>\n",
       "    <tr style=\"text-align: right;\">\n",
       "      <th></th>\n",
       "      <th>Temperature_F</th>\n",
       "      <th>Frzn_Custard_Sales</th>\n",
       "    </tr>\n",
       "  </thead>\n",
       "  <tbody>\n",
       "    <tr>\n",
       "      <th>count</th>\n",
       "      <td>180.000000</td>\n",
       "      <td>178.000000</td>\n",
       "    </tr>\n",
       "    <tr>\n",
       "      <th>mean</th>\n",
       "      <td>79.305556</td>\n",
       "      <td>2936.382022</td>\n",
       "    </tr>\n",
       "    <tr>\n",
       "      <th>median</th>\n",
       "      <td>79.000000</td>\n",
       "      <td>2955.500000</td>\n",
       "    </tr>\n",
       "    <tr>\n",
       "      <th>mode</th>\n",
       "      <td>79.000000</td>\n",
       "      <td>2528.000000</td>\n",
       "    </tr>\n",
       "    <tr>\n",
       "      <th>var</th>\n",
       "      <td>107.654718</td>\n",
       "      <td>159475.480353</td>\n",
       "    </tr>\n",
       "    <tr>\n",
       "      <th>std</th>\n",
       "      <td>10.375679</td>\n",
       "      <td>399.343812</td>\n",
       "    </tr>\n",
       "    <tr>\n",
       "      <th>sem</th>\n",
       "      <td>0.773357</td>\n",
       "      <td>29.932084</td>\n",
       "    </tr>\n",
       "    <tr>\n",
       "      <th>min</th>\n",
       "      <td>57.000000</td>\n",
       "      <td>1959.000000</td>\n",
       "    </tr>\n",
       "    <tr>\n",
       "      <th>max</th>\n",
       "      <td>105.000000</td>\n",
       "      <td>3971.000000</td>\n",
       "    </tr>\n",
       "  </tbody>\n",
       "</table>\n",
       "</div>"
      ],
      "text/plain": [
       "        Temperature_F  Frzn_Custard_Sales\n",
       "count      180.000000          178.000000\n",
       "mean        79.305556         2936.382022\n",
       "median      79.000000         2955.500000\n",
       "mode        79.000000         2528.000000\n",
       "var        107.654718       159475.480353\n",
       "std         10.375679          399.343812\n",
       "sem          0.773357           29.932084\n",
       "min         57.000000         1959.000000\n",
       "max        105.000000         3971.000000"
      ]
     },
     "execution_count": 3,
     "metadata": {},
     "output_type": "execute_result"
    }
   ],
   "source": [
    "# Descriptive information about the data, including summary statistics \n",
    "# (such as number of observations, measures of central tendency, & measures of dispersion)\n",
    "\n",
    "df_custard.agg(['count', 'mean', 'median', statistics.mode, 'var', 'std', 'sem', 'min', 'max'])"
   ]
  },
  {
   "cell_type": "code",
   "execution_count": 4,
   "id": "c01ac8b2-dc63-4d79-b42e-bed5674d07ef",
   "metadata": {},
   "outputs": [
    {
     "data": {
      "image/png": "[encoded data removed]",
      "text/plain": [
       "<Figure size 720x360 with 2 Axes>"
      ]
     },
     "metadata": {},
     "output_type": "display_data"
    }
   ],
   "source": [
    "# plots of the data distributions\n",
    "\n",
    "sns.set(style=\"darkgrid\")\n",
    "fig, axs = plt.subplots(1, 2, figsize=(10, 5))\n",
    "\n",
    "sns.histplot(data=df_custard['Temperature_F'], kde=True, color=\"skyblue\", ax=axs[0])\n",
    "sns.histplot(data=df_custard['Frzn_Custard_Sales'], kde=True, color=\"olive\", ax=axs[1])\n",
    "\n",
    "plt.show()"
   ]
  },
  {
   "cell_type": "code",
   "execution_count": 18,
   "id": "ed74ed7a-bebe-422e-bd2c-d88073296d0c",
   "metadata": {},
   "outputs": [
    {
     "data": {
      "image/png": "[encoded data removed]",
      "text/plain": [
       "<Figure size 432x288 with 1 Axes>"
      ]
     },
     "metadata": {},
     "output_type": "display_data"
    }
   ],
   "source": [
    "# Descriptive information about the relationships between the two variables, including correlation and scatterplots\n",
    "\n",
    "cor_custard = df_custard['Temperature_F'].corr(df_custard['Frzn_Custard_Sales'])\n",
    "\n",
    "sns.scatterplot(data=df_custard, x=\"Temperature_F\", y=\"Frzn_Custard_Sales\")\n",
    "plt.title(\"Correlation = %.3f\" % cor_custard)\n",
    "plt.rc('axes', titlesize=18)\n",
    "plt.show()\n",
    "\n",
    "# Highly positive correlation between temperature and sales"
   ]
  },
  {
   "cell_type": "code",
   "execution_count": 44,
   "id": "e29a4843-3e8e-4d4c-9e39-25038036e0d2",
   "metadata": {},
   "outputs": [
    {
     "data": {
      "text/html": [
       "<table class=\"simpletable\">\n",
       "<caption>OLS Regression Results</caption>\n",
       "<tr>\n",
       "  <th>Dep. Variable:</th>    <td>Frzn_Custard_Sales</td> <th>  R-squared:         </th> <td>   0.677</td>\n",
       "</tr>\n",
       "<tr>\n",
       "  <th>Model:</th>                    <td>OLS</td>        <th>  Adj. R-squared:    </th> <td>   0.676</td>\n",
       "</tr>\n",
       "<tr>\n",
       "  <th>Method:</th>              <td>Least Squares</td>   <th>  F-statistic:       </th> <td>   369.6</td>\n",
       "</tr>\n",
       "<tr>\n",
       "  <th>Date:</th>              <td>Thu, 29 Sep 2022</td>  <th>  Prob (F-statistic):</th> <td>4.21e-45</td>\n",
       "</tr>\n",
       "<tr>\n",
       "  <th>Time:</th>                  <td>22:40:35</td>      <th>  Log-Likelihood:    </th> <td> -1217.6</td>\n",
       "</tr>\n",
       "<tr>\n",
       "  <th>No. Observations:</th>       <td>   178</td>       <th>  AIC:               </th> <td>   2439.</td>\n",
       "</tr>\n",
       "<tr>\n",
       "  <th>Df Residuals:</th>           <td>   176</td>       <th>  BIC:               </th> <td>   2445.</td>\n",
       "</tr>\n",
       "<tr>\n",
       "  <th>Df Model:</th>               <td>     1</td>       <th>                     </th>     <td> </td>   \n",
       "</tr>\n",
       "<tr>\n",
       "  <th>Covariance Type:</th>       <td>nonrobust</td>     <th>                     </th>     <td> </td>   \n",
       "</tr>\n",
       "</table>\n",
       "<table class=\"simpletable\">\n",
       "<tr>\n",
       "        <td></td>           <th>coef</th>     <th>std err</th>      <th>t</th>      <th>P>|t|</th>  <th>[0.025</th>    <th>0.975]</th>  \n",
       "</tr>\n",
       "<tr>\n",
       "  <th>const</th>         <td>  423.2649</td> <td>  131.833</td> <td>    3.211</td> <td> 0.002</td> <td>  163.088</td> <td>  683.441</td>\n",
       "</tr>\n",
       "<tr>\n",
       "  <th>Temperature_F</th> <td>   31.6496</td> <td>    1.646</td> <td>   19.224</td> <td> 0.000</td> <td>   28.400</td> <td>   34.899</td>\n",
       "</tr>\n",
       "</table>\n",
       "<table class=\"simpletable\">\n",
       "<tr>\n",
       "  <th>Omnibus:</th>       <td> 7.647</td> <th>  Durbin-Watson:     </th> <td>   1.923</td>\n",
       "</tr>\n",
       "<tr>\n",
       "  <th>Prob(Omnibus):</th> <td> 0.022</td> <th>  Jarque-Bera (JB):  </th> <td>   3.999</td>\n",
       "</tr>\n",
       "<tr>\n",
       "  <th>Skew:</th>          <td>-0.127</td> <th>  Prob(JB):          </th> <td>   0.135</td>\n",
       "</tr>\n",
       "<tr>\n",
       "  <th>Kurtosis:</th>      <td> 2.311</td> <th>  Cond. No.          </th> <td>    619.</td>\n",
       "</tr>\n",
       "</table><br/><br/>Notes:<br/>[1] Standard Errors assume that the covariance matrix of the errors is correctly specified."
      ],
      "text/plain": [
       "<class 'statsmodels.iolib.summary.Summary'>\n",
       "\"\"\"\n",
       "                            OLS Regression Results                            \n",
       "==============================================================================\n",
       "Dep. Variable:     Frzn_Custard_Sales   R-squared:                       0.677\n",
       "Model:                            OLS   Adj. R-squared:                  0.676\n",
       "Method:                 Least Squares   F-statistic:                     369.6\n",
       "Date:                Thu, 29 Sep 2022   Prob (F-statistic):           4.21e-45\n",
       "Time:                        22:40:35   Log-Likelihood:                -1217.6\n",
       "No. Observations:                 178   AIC:                             2439.\n",
       "Df Residuals:                     176   BIC:                             2445.\n",
       "Df Model:                           1                                         \n",
       "Covariance Type:            nonrobust                                         \n",
       "=================================================================================\n",
       "                    coef    std err          t      P>|t|      [0.025      0.975]\n",
       "---------------------------------------------------------------------------------\n",
       "const           423.2649    131.833      3.211      0.002     163.088     683.441\n",
       "Temperature_F    31.6496      1.646     19.224      0.000      28.400      34.899\n",
       "==============================================================================\n",
       "Omnibus:                        7.647   Durbin-Watson:                   1.923\n",
       "Prob(Omnibus):                  0.022   Jarque-Bera (JB):                3.999\n",
       "Skew:                          -0.127   Prob(JB):                        0.135\n",
       "Kurtosis:                       2.311   Cond. No.                         619.\n",
       "==============================================================================\n",
       "\n",
       "Notes:\n",
       "[1] Standard Errors assume that the covariance matrix of the errors is correctly specified.\n",
       "\"\"\""
      ]
     },
     "execution_count": 44,
     "metadata": {},
     "output_type": "execute_result"
    }
   ],
   "source": [
    "# A regression analysis to test the hypothesis.\n",
    "\n",
    "df_custard.dropna(inplace=True) # Rows with missing data will need to be removed.\n",
    "\n",
    "import statsmodels.api as sm\n",
    "y = df_custard['Frzn_Custard_Sales'] # dependent variable\n",
    "\n",
    "X = df_custard[['Temperature_F']] # independent variable\n",
    "X = sm.add_constant(X) # add constant to predictor variables\n",
    "\n",
    "model = sm.OLS(y, X).fit() # fit linear regression model\n",
    "model.summary()"
   ]
  },
  {
   "cell_type": "markdown",
   "id": "35e8e5d1-d880-4f30-b8e4-8b731175cd67",
   "metadata": {},
   "source": [
    "A description of the results of the analysis:\n",
    "\n",
    "- Interpretation of the coefficients: The intercept is 423.3, which indicates the sales number given that the temperature is zero. The coefficient of temperature is 31.6, meaning that a unit increase in temperature would boost sales by 31.6 units, vice versa.\n",
    "\n",
    "- Description of the goodness of fit: The R-squared is 0.677, meaning that approximately 67.7% of variation in sales can be explained by temperature, which is a pretty good number considering there is only a single predictor variable.\n",
    "\n",
    "- Whether the results are statistically significant: The model's F-statistic and the t-stats of the coefficients are all statistically significant. (P-value < 0.05)"
   ]
  },
  {
   "cell_type": "markdown",
   "id": "27d09977-14e9-46e0-8eff-9bfad065142d",
   "metadata": {},
   "source": [
    "## Section 2: Gradient Descent"
   ]
  },
  {
   "cell_type": "markdown",
   "id": "9e1159f6-125b-4e24-85df-56e0506f773d",
   "metadata": {},
   "source": [
    "Write a program in Python that uses gradient descent to find the regression coefficients (βs) for the frozen custard data in Section 1. \n",
    "\n",
    "Cite the source: https://medium.com/analytics-vidhya/linear-regression-gradient-descent-intuition-and-math-c9a8f5aeeb22"
   ]
  },
  {
   "cell_type": "code",
   "execution_count": 124,
   "id": "bdcda0c5-f10f-4701-bd1c-1978051cbd19",
   "metadata": {},
   "outputs": [],
   "source": [
    "# Our equations above need bias term in x which should always be 1 \n",
    "def add_bias_term(x):\n",
    "    # np.ones(n) will give new array of length n whose all elements are 1 \n",
    "    # np.c_ concatinates two array column wise\n",
    "    return np.c_[np.ones(len(x)),x]\n",
    "\n",
    "# Root mean square cost function\n",
    "def rmse_cost_func(P,Y):\n",
    "    ## model is array with bias and coffecients values\n",
    "    return np.sqrt(np.mean((P-Y)**2))\n",
    "\n",
    "# Finds gradient of cost function\n",
    "def gradient_of_cost(x,y,model):\n",
    "    preds = predict(x,model)\n",
    "    error_term = preds-y\n",
    "    \n",
    "    # np.matmul performs matrix multiplication\n",
    "    # x.T is transpose of matrix x\n",
    "    xt_dot_error_term = np.matmul(x.T,error_term)/len(x)\n",
    "    return xt_dot_error_term\n",
    "\n",
    "# Do prediction\n",
    "def predict(x,model):\n",
    "    #np.matmul performs matrix multiplication\n",
    "    return np.matmul(x,model)\n",
    "\n",
    "def find_linear_regression_model(x,y, n_epochs = 10000, neta = 0.001):\n",
    "    cost_history = []\n",
    "    \n",
    "    # Initialize all parameters(wj's) to zero\n",
    "    model = np.zeros(len(x[0]))\n",
    "    \n",
    "    # do n_epochs iteration\n",
    "    for _ in range(n_epochs):\n",
    "        grad = gradient_of_cost(x,y,model)\n",
    "        y_pred = predict(x, model)\n",
    "        cost_history.append(rmse_cost_func(y_pred, y))\n",
    "        \n",
    "        # move parameters closer to optimum solution in every step \n",
    "        next_model = model - neta*grad\n",
    "        model = next_model\n",
    "        \n",
    "    return model, cost_history"
   ]
  },
  {
   "cell_type": "code",
   "execution_count": 127,
   "id": "80a07b9b-3e11-4bdd-827d-ba6469f16aa3",
   "metadata": {},
   "outputs": [
    {
     "name": "stdout",
     "output_type": "stream",
     "text": [
      "\n",
      "model(w0,w1)\n",
      " [2.09605117e-16 8.23006909e-01]\n"
     ]
    }
   ],
   "source": [
    "X = np.array(df_custard.Temperature_F).reshape(-1, 1)\n",
    "X = add_bias_term(X)\n",
    "y = np.array(df_custard.Frzn_Custard_Sales)\n",
    "\n",
    "model, cost_history = find_linear_regression_model(X, y)\n",
    "print(\"\\nmodel(w0,w1)\\n\", model)"
   ]
  },
  {
   "cell_type": "code",
   "execution_count": 128,
   "id": "2164c92d-acd7-4a3e-9531-46e557a104ce",
   "metadata": {},
   "outputs": [
    {
     "data": {
      "image/png": "[encoded data removed]",
      "text/plain": [
       "<Figure size 432x288 with 1 Axes>"
      ]
     },
     "metadata": {},
     "output_type": "display_data"
    }
   ],
   "source": [
    "# graph the loss function over iterations\n",
    "plt.plot(np.arange(len(cost_history)), cost_history)\n",
    "plt.xlabel(\"Number of Epochs\")\n",
    "plt.ylabel(\"Loss Function\")\n",
    "plt.show()"
   ]
  },
  {
   "cell_type": "code",
   "execution_count": 129,
   "id": "8cc650a1-9275-4574-a5fe-f030b6d0435e",
   "metadata": {},
   "outputs": [],
   "source": [
    "# Standardize your X and Y variables. \n",
    "\n",
    "df_custard['Temperature_F'] = (df_custard['Temperature_F'] - df_custard['Temperature_F'].mean()) / df_custard['Temperature_F'].std()\n",
    "df_custard['Frzn_Custard_Sales'] = (df_custard['Frzn_Custard_Sales'] - df_custard['Frzn_Custard_Sales'].mean()) / df_custard['Frzn_Custard_Sales'].std()"
   ]
  },
  {
   "cell_type": "code",
   "execution_count": 130,
   "id": "14e27487-6d8d-408d-a1ea-64e2b7d98003",
   "metadata": {},
   "outputs": [
    {
     "data": {
      "text/html": [
       "<table class=\"simpletable\">\n",
       "<caption>OLS Regression Results</caption>\n",
       "<tr>\n",
       "  <th>Dep. Variable:</th>    <td>Frzn_Custard_Sales</td> <th>  R-squared:         </th> <td>   0.677</td>\n",
       "</tr>\n",
       "<tr>\n",
       "  <th>Model:</th>                    <td>OLS</td>        <th>  Adj. R-squared:    </th> <td>   0.676</td>\n",
       "</tr>\n",
       "<tr>\n",
       "  <th>Method:</th>              <td>Least Squares</td>   <th>  F-statistic:       </th> <td>   369.6</td>\n",
       "</tr>\n",
       "<tr>\n",
       "  <th>Date:</th>              <td>Thu, 29 Sep 2022</td>  <th>  Prob (F-statistic):</th> <td>4.21e-45</td>\n",
       "</tr>\n",
       "<tr>\n",
       "  <th>Time:</th>                  <td>23:36:32</td>      <th>  Log-Likelihood:    </th> <td> -151.38</td>\n",
       "</tr>\n",
       "<tr>\n",
       "  <th>No. Observations:</th>       <td>   178</td>       <th>  AIC:               </th> <td>   306.8</td>\n",
       "</tr>\n",
       "<tr>\n",
       "  <th>Df Residuals:</th>           <td>   176</td>       <th>  BIC:               </th> <td>   313.1</td>\n",
       "</tr>\n",
       "<tr>\n",
       "  <th>Df Model:</th>               <td>     1</td>       <th>                     </th>     <td> </td>   \n",
       "</tr>\n",
       "<tr>\n",
       "  <th>Covariance Type:</th>       <td>nonrobust</td>     <th>                     </th>     <td> </td>   \n",
       "</tr>\n",
       "</table>\n",
       "<table class=\"simpletable\">\n",
       "<tr>\n",
       "        <td></td>           <th>coef</th>     <th>std err</th>      <th>t</th>      <th>P>|t|</th>  <th>[0.025</th>    <th>0.975]</th>  \n",
       "</tr>\n",
       "<tr>\n",
       "  <th>const</th>         <td>-3.469e-18</td> <td>    0.043</td> <td>-8.13e-17</td> <td> 1.000</td> <td>   -0.084</td> <td>    0.084</td>\n",
       "</tr>\n",
       "<tr>\n",
       "  <th>Temperature_F</th> <td>    0.8230</td> <td>    0.043</td> <td>   19.224</td> <td> 0.000</td> <td>    0.739</td> <td>    0.908</td>\n",
       "</tr>\n",
       "</table>\n",
       "<table class=\"simpletable\">\n",
       "<tr>\n",
       "  <th>Omnibus:</th>       <td> 7.647</td> <th>  Durbin-Watson:     </th> <td>   1.923</td>\n",
       "</tr>\n",
       "<tr>\n",
       "  <th>Prob(Omnibus):</th> <td> 0.022</td> <th>  Jarque-Bera (JB):  </th> <td>   3.999</td>\n",
       "</tr>\n",
       "<tr>\n",
       "  <th>Skew:</th>          <td>-0.127</td> <th>  Prob(JB):          </th> <td>   0.135</td>\n",
       "</tr>\n",
       "<tr>\n",
       "  <th>Kurtosis:</th>      <td> 2.311</td> <th>  Cond. No.          </th> <td>    1.00</td>\n",
       "</tr>\n",
       "</table><br/><br/>Notes:<br/>[1] Standard Errors assume that the covariance matrix of the errors is correctly specified."
      ],
      "text/plain": [
       "<class 'statsmodels.iolib.summary.Summary'>\n",
       "\"\"\"\n",
       "                            OLS Regression Results                            \n",
       "==============================================================================\n",
       "Dep. Variable:     Frzn_Custard_Sales   R-squared:                       0.677\n",
       "Model:                            OLS   Adj. R-squared:                  0.676\n",
       "Method:                 Least Squares   F-statistic:                     369.6\n",
       "Date:                Thu, 29 Sep 2022   Prob (F-statistic):           4.21e-45\n",
       "Time:                        23:36:32   Log-Likelihood:                -151.38\n",
       "No. Observations:                 178   AIC:                             306.8\n",
       "Df Residuals:                     176   BIC:                             313.1\n",
       "Df Model:                           1                                         \n",
       "Covariance Type:            nonrobust                                         \n",
       "=================================================================================\n",
       "                    coef    std err          t      P>|t|      [0.025      0.975]\n",
       "---------------------------------------------------------------------------------\n",
       "const         -3.469e-18      0.043  -8.13e-17      1.000      -0.084       0.084\n",
       "Temperature_F     0.8230      0.043     19.224      0.000       0.739       0.908\n",
       "==============================================================================\n",
       "Omnibus:                        7.647   Durbin-Watson:                   1.923\n",
       "Prob(Omnibus):                  0.022   Jarque-Bera (JB):                3.999\n",
       "Skew:                          -0.127   Prob(JB):                        0.135\n",
       "Kurtosis:                       2.311   Cond. No.                         1.00\n",
       "==============================================================================\n",
       "\n",
       "Notes:\n",
       "[1] Standard Errors assume that the covariance matrix of the errors is correctly specified.\n",
       "\"\"\""
      ]
     },
     "execution_count": 130,
     "metadata": {},
     "output_type": "execute_result"
    }
   ],
   "source": [
    "# Rerun your section 1 model using the standardized inputs. \n",
    "y = df_custard['Frzn_Custard_Sales']\n",
    "X = df_custard[['Temperature_F']] \n",
    "X = sm.add_constant(X) \n",
    "\n",
    "model2 = sm.OLS(y, X).fit() \n",
    "model2.summary()"
   ]
  },
  {
   "cell_type": "code",
   "execution_count": 131,
   "id": "0adc1d91-472a-4172-ad76-fa2b368c4830",
   "metadata": {},
   "outputs": [
    {
     "name": "stdout",
     "output_type": "stream",
     "text": [
      "\n",
      "model(w0,w1)\n",
      " [2.77586942e-17 8.23006909e-01]\n"
     ]
    }
   ],
   "source": [
    "# Compare your results using gradient descent and using the module you used in Section 1 for the standardized inputs.\n",
    "X = np.array(df_custard.Temperature_F).reshape(-1, 1)\n",
    "X = add_bias_term(X)\n",
    "y = np.array(df_custard.Frzn_Custard_Sales)\n",
    "\n",
    "model, cost_history = find_linear_regression_model(X, y)\n",
    "print(\"\\nmodel(w0,w1)\\n\", model)"
   ]
  },
  {
   "cell_type": "code",
   "execution_count": 132,
   "id": "460d137b-290e-4652-a18f-fcc9392d0089",
   "metadata": {},
   "outputs": [
    {
     "data": {
      "image/png": "[encoded data removed]",
      "text/plain": [
       "<Figure size 432x288 with 1 Axes>"
      ]
     },
     "metadata": {},
     "output_type": "display_data"
    }
   ],
   "source": [
    "# Plot the loss (i.e. cost) function over the iterations\n",
    "plt.plot(np.arange(len(cost_history)), cost_history)\n",
    "plt.xlabel(\"Number of Epochs\")\n",
    "plt.ylabel(\"Loss Function\")\n",
    "plt.show()"
   ]
  },
  {
   "cell_type": "code",
   "execution_count": null,
   "id": "6f82c18a-d480-40fc-910a-468e43513951",
   "metadata": {},
   "outputs": [],
   "source": []
  }
 ],
 "metadata": {
  "kernelspec": {
   "display_name": "Python 3",
   "language": "python",
   "name": "python3"
  },
  "language_info": {
   "codemirror_mode": {
    "name": "ipython",
    "version": 3
   },
   "file_extension": ".py",
   "mimetype": "text/x-python",
   "name": "python",
   "nbconvert_exporter": "python",
   "pygments_lexer": "ipython3",
   "version": "3.8.8"
  }
 },
 "nbformat": 4,
 "nbformat_minor": 5
}
